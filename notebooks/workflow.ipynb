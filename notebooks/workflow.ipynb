{
 "cells": [
  {
   "cell_type": "markdown",
   "id": "b6b024f7",
   "metadata": {},
   "source": [
    "\n",
    "# Malaria Gene Annotation — Reproducible Workflow\n",
    "\n",
    "This notebook demonstrates the end-to-end process and discusses dependencies, version pinning, and FAIR principles.\n"
   ]
  },
  {
   "cell_type": "code",
   "execution_count": null,
   "id": "321bcbe8",
   "metadata": {},
   "outputs": [],
   "source": [
    "\n",
    "# Optionally install exact versions (useful on Colab)\n",
    "# Uncomment if using Colab:\n",
    "# !pip install -r ../requirements.txt\n"
   ]
  },
  {
   "cell_type": "markdown",
   "id": "97ff3cae",
   "metadata": {},
   "source": [
    "\n",
    "## 1. Inputs and expectations\n",
    "\n",
    "We expect two tab-delimited files:\n",
    "\n",
    "- `malaria.fna` — multi-FASTA with **tab-delimited** headers, e.g.\n",
    "```\n",
    ">1_g\tlength=1143\tscaffold=scaffold00001\tstrand=-\n",
    "ATGGATATAA...\n",
    "```\n",
    "- `malaria.blastx.tab` — BLASTX table with **gene ID in column 1** and **protein description in column 10**.\n",
    "\n",
    "If a protein description is `null`, that entry is excluded.\n",
    "```\n",
    "#queryName\tqueryLength\tfirstQueryPos\tlastQueryPos\thitName\thitLength\tfirstHitPos\tlastHitPos\tframe\thitDescription\tnumberOfHits\tcoverage\tidentity\tevalue\tscore\thspLength\trelIdentity\n",
    "2701_g\t1881\t1\t1806\tQ7RHP3\t516\t1\t516\t+1\tGAF domain protein\t10\t1.18\t256\t2e-110\t405\t608\t0.43\n",
    "```\n",
    "\n",
    "If a protein description is null, that entry is excluded.\n",
    "\n"
   ]
  },
  {
   "cell_type": "code",
   "execution_count": null,
   "id": "ee901b05",
   "metadata": {},
   "outputs": [],
   "source": [
    "\n",
    "from pathlib import Path\n",
    "base = Path(\"..\").resolve()\n",
    "fna = base / \"data\" / \"malaria.fna\"\n",
    "blast = base / \"data\" / \"malaria.blastx.tab\"\n",
    "print(fna.read_text().splitlines()[:4])\n",
    "print(blast.read_text().splitlines()[:2])\n"
   ]
  },
  {
   "cell_type": "markdown",
   "id": "4a24e3f9",
   "metadata": {},
   "source": [
    "\n",
    "## 2. Run the reference script\n",
    "\n",
    "We reuse the provided `src/malaria.py` to generate `output.txt`.\n"
   ]
  },
  {
   "cell_type": "code",
   "execution_count": null,
   "id": "33dcb9f8",
   "metadata": {},
   "outputs": [],
   "source": [
    "\n",
    "import subprocess, sys, os, textwrap, json\n",
    "out_path = (base / \"output.txt\").as_posix()\n",
    "cmd = [sys.executable, (base / \"src\" / \"malaria.py\").as_posix(), fna.as_posix(), blast.as_posix(), out_path]\n",
    "print(\"Running:\", \" \".join(cmd))\n",
    "subprocess.check_call(cmd)\n",
    "print(\"\\nFirst lines of output:\")\n",
    "print(\"\\n\".join(Path(out_path).read_text().splitlines()[:4]))\n"
   ]
  },
  {
   "cell_type": "markdown",
   "id": "1cf5afa1",
   "metadata": {},
   "source": [
    "\n",
    "## 3. Simple sanity checks\n",
    "\n",
    "- All headers must contain a `protein=` field.\n",
    "- No entry with `null` description should appear.\n"
   ]
  },
  {
   "cell_type": "code",
   "execution_count": null,
   "id": "5f0e04ad",
   "metadata": {},
   "outputs": [],
   "source": [
    "\n",
    "from pathlib import Path\n",
    "ok = True\n",
    "num = 0\n",
    "for line in Path(out_path).read_text().splitlines():\n",
    "    if line.startswith(\">\"):\n",
    "        num += 1\n",
    "        if \"\\tprotein=\" not in line:\n",
    "            ok = False\n",
    "print(f\"Headers with protein field: {num} — OK={ok}\")\n"
   ]
  },
  {
   "cell_type": "markdown",
   "id": "30e6dc1b",
   "metadata": {},
   "source": [
    "\n",
    "## 4. Visualization\n",
    "\n",
    "We produce a trivial bar chart of sequence lengths in the output to verify content. (No colors explicitly set.)\n"
   ]
  },
  {
   "cell_type": "code",
   "execution_count": null,
   "id": "a6363f6e",
   "metadata": {},
   "outputs": [],
   "source": [
    "\n",
    "import re\n",
    "import matplotlib.pyplot as plt\n",
    "\n",
    "lengths = []\n",
    "with open(out_path) as f:\n",
    "    for line in f:\n",
    "        if line.startswith(\">\"):\n",
    "            m = re.search(r\"length=(\\d+)\", line)\n",
    "            if m:\n",
    "                lengths.append(int(m.group(1)))\n",
    "\n",
    "plt.figure()\n",
    "plt.bar([str(i+1) for i in range(len(lengths))], lengths)\n",
    "plt.title(\"Sequence lengths in output.txt\")\n",
    "plt.xlabel(\"Record index\")\n",
    "plt.ylabel(\"Length (bp)\")\n",
    "plt.show()\n"
   ]
  },
  {
   "cell_type": "markdown",
   "id": "abf71243",
   "metadata": {},
   "source": [
    "\n",
    "## 5. Notes on robustness\n",
    "\n",
    "The reference script assumes **single-line sequences**. For multi-line FASTA, we would need to buffer sequences until the next header. See below for a robust approach (pseudocode):\n",
    "\n",
    "```text\n",
    "for each line:\n",
    "  if header -> flush previous sequence if had hit; start new record\n",
    "  else -> append to current sequence buffer\n",
    "```\n"
   ]
  },
  {
   "cell_type": "markdown",
   "id": "4c6285ab",
   "metadata": {},
   "source": [
    "## 6. Version pinning\n",
    "\n",
    "Let \\( p \\) be a package and \\( v \\) a pinned version. We enforce:\n",
    "\\[\n",
    "\\texttt{install}(p == v) \\Rightarrow \\text{deterministic behavior across machines.}\n",
    "\\]\n",
    "Tradeoffs and risks are detailed in the README.\n"
   ]
  },
  {
   "cell_type": "markdown",
   "id": "38d81f5c",
   "metadata": {},
   "source": [
    "\n",
    "## 7. FAIR discussion\n",
    "\n",
    "- **Findable:** clear metadata (README, keywords), standard names, CITATION.\n",
    "- **Accessible:** open license and plain-text formats.\n",
    "- **Interoperable:** FASTA/TSV standards; Python 3 environment.\n",
    "- **Reusable:** pinned environment, runnable example, and tests/sanity checks.\n"
   ]
  }
 ],
 "metadata": {
  "language_info": {
   "name": "python"
  }
 },
 "nbformat": 4,
 "nbformat_minor": 5
}
