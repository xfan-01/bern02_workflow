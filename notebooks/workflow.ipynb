{
  "cells": [
    {
      "cell_type": "markdown",
      "id": "b6b024f7",
      "metadata": {
        "id": "b6b024f7"
      },
      "source": [
        "\n",
        "# Malaria Gene Annotation — Reproducible Workflow\n",
        "\n",
        "This notebook demonstrates the end-to-end process and discusses dependencies, version pinning, and FAIR principles.\n",
        "\n",
        "**Keywords**: malaria, bioinformatics, BLASTX, FASTA, reproducibility, FAIR, workflow"
      ]
    },
    {
      "cell_type": "markdown",
      "id": "4c6285ab",
      "metadata": {
        "id": "4c6285ab"
      },
      "source": [
        "## 1. Environment\n",
        "\n",
        "This notebook sets up a reproducible, conda-managed environment for the malaria annotation workflow. The specified environment includes Python 3.12 alongside essential packages such as Matplotlib, Biopython, and nbformat, ensuring consistency and compatibility throughout the analysis.\n",
        "\n",
        "```\n",
        "name: malaria-workflow\n",
        "channels:\n",
        "  - conda-forge\n",
        "dependencies:\n",
        "  - python=3.12\n",
        "  - pip=24.2\n",
        "  - pip:\n",
        "      - matplotlib==3.9.2\n",
        "      - biopython==1.83\n",
        "      - nbformat==5.10.4\n",
        "```\n"
      ]
    },
    {
      "cell_type": "code",
      "source": [
        "# Install condacolab\n",
        "!pip install -q condacolab\n",
        "import condacolab\n",
        "condacolab.install()\n"
      ],
      "metadata": {
        "colab": {
          "base_uri": "https://localhost:8080/"
        },
        "id": "6dzN830vj6J6",
        "outputId": "444545f5-c68c-47f3-ab67-7549bef08ea5"
      },
      "id": "6dzN830vj6J6",
      "execution_count": 54,
      "outputs": [
        {
          "output_type": "stream",
          "name": "stdout",
          "text": [
            "✨🍰✨ Everything looks OK!\n"
          ]
        }
      ]
    },
    {
      "cell_type": "code",
      "source": [
        "%pip install biopython==1.83 matplotlib==3.9.2 nbformat==5.10.4\n",
        "import Bio, matplotlib, nbformat\n",
        "print(Bio.__version__, matplotlib.__version__, nbformat.__version__)\n",
        "\n",
        "\n"
      ],
      "metadata": {
        "colab": {
          "base_uri": "https://localhost:8080/"
        },
        "id": "lpNinjq7sZGl",
        "outputId": "003f5ee6-5c25-48bd-d24b-1a1d2bbb9226"
      },
      "id": "lpNinjq7sZGl",
      "execution_count": 60,
      "outputs": [
        {
          "output_type": "stream",
          "name": "stdout",
          "text": [
            "Requirement already satisfied: biopython==1.83 in /usr/local/lib/python3.11/site-packages (1.83)\n",
            "Requirement already satisfied: matplotlib==3.9.2 in /usr/local/lib/python3.11/site-packages (3.9.2)\n",
            "Requirement already satisfied: nbformat==5.10.4 in /usr/local/lib/python3.11/site-packages (5.10.4)\n",
            "Requirement already satisfied: numpy in /usr/local/lib/python3.11/site-packages (from biopython==1.83) (2.3.2)\n",
            "Requirement already satisfied: contourpy>=1.0.1 in /usr/local/lib/python3.11/site-packages (from matplotlib==3.9.2) (1.3.3)\n",
            "Requirement already satisfied: cycler>=0.10 in /usr/local/lib/python3.11/site-packages (from matplotlib==3.9.2) (0.12.1)\n",
            "Requirement already satisfied: fonttools>=4.22.0 in /usr/local/lib/python3.11/site-packages (from matplotlib==3.9.2) (4.59.2)\n",
            "Requirement already satisfied: kiwisolver>=1.3.1 in /usr/local/lib/python3.11/site-packages (from matplotlib==3.9.2) (1.4.9)\n",
            "Requirement already satisfied: packaging>=20.0 in /usr/local/lib/python3.11/site-packages (from matplotlib==3.9.2) (24.2)\n",
            "Requirement already satisfied: pillow>=8 in /usr/local/lib/python3.11/site-packages (from matplotlib==3.9.2) (11.3.0)\n",
            "Requirement already satisfied: pyparsing>=2.3.1 in /usr/local/lib/python3.11/site-packages (from matplotlib==3.9.2) (3.2.3)\n",
            "Requirement already satisfied: python-dateutil>=2.7 in /usr/local/lib/python3.11/site-packages (from matplotlib==3.9.2) (2.9.0.post0)\n",
            "Requirement already satisfied: fastjsonschema>=2.15 in /usr/local/lib/python3.11/site-packages (from nbformat==5.10.4) (2.21.2)\n",
            "Requirement already satisfied: jsonschema>=2.6 in /usr/local/lib/python3.11/site-packages (from nbformat==5.10.4) (4.25.1)\n",
            "Requirement already satisfied: jupyter-core!=5.0.*,>=4.12 in /usr/local/lib/python3.11/site-packages (from nbformat==5.10.4) (5.8.1)\n",
            "Requirement already satisfied: traitlets>=5.1 in /usr/local/lib/python3.11/site-packages (from nbformat==5.10.4) (5.14.3)\n",
            "Requirement already satisfied: attrs>=22.2.0 in /usr/local/lib/python3.11/site-packages (from jsonschema>=2.6->nbformat==5.10.4) (25.3.0)\n",
            "Requirement already satisfied: jsonschema-specifications>=2023.03.6 in /usr/local/lib/python3.11/site-packages (from jsonschema>=2.6->nbformat==5.10.4) (2025.4.1)\n",
            "Requirement already satisfied: referencing>=0.28.4 in /usr/local/lib/python3.11/site-packages (from jsonschema>=2.6->nbformat==5.10.4) (0.36.2)\n",
            "Requirement already satisfied: rpds-py>=0.7.1 in /usr/local/lib/python3.11/site-packages (from jsonschema>=2.6->nbformat==5.10.4) (0.27.1)\n",
            "Requirement already satisfied: platformdirs>=2.5 in /usr/local/lib/python3.11/site-packages (from jupyter-core!=5.0.*,>=4.12->nbformat==5.10.4) (4.3.6)\n",
            "Requirement already satisfied: six>=1.5 in /usr/local/lib/python3.11/site-packages (from python-dateutil>=2.7->matplotlib==3.9.2) (1.17.0)\n",
            "Requirement already satisfied: typing-extensions>=4.4.0 in /usr/local/lib/python3.11/site-packages (from referencing>=0.28.4->jsonschema>=2.6->nbformat==5.10.4) (4.15.0)\n",
            "1.83 3.10.0 5.10.4\n"
          ]
        }
      ]
    },
    {
      "cell_type": "markdown",
      "id": "97ff3cae",
      "metadata": {
        "id": "97ff3cae"
      },
      "source": [
        "\n",
        "## 2. Inputs and expectations\n",
        "\n",
        "We expect two tab-delimited files:\n",
        "\n",
        "- `malaria.fna` — multi-FASTA with **tab-delimited** headers, e.g.\n",
        "```\n",
        ">1_g\tlength=1143\tscaffold=scaffold00001\tstrand=-\n",
        "ATGGATATAA...\n",
        "```\n",
        "- `malaria.blastx.tab` — BLASTX table with **gene ID in column 1** and **protein description in column 10**.\n",
        "\n",
        "If a protein description is `null`, that entry is excluded.\n",
        "```\n",
        "#queryName\tqueryLength\tfirstQueryPos\tlastQueryPos\thitName\thitLength\tfirstHitPos\tlastHitPos\tframe\thitDescription\tnumberOfHits\tcoverage\tidentity\tevalue\tscore\thspLength\trelIdentity\n",
        "2701_g\t1881\t1\t1806\tQ7RHP3\t516\t1\t516\t+1\tGAF domain protein\t10\t1.18\t256\t2e-110\t405\t608\t0.43\n",
        "```\n",
        "\n",
        "If a protein description is null, that entry is excluded.\n",
        "\n"
      ]
    },
    {
      "cell_type": "code",
      "execution_count": 44,
      "id": "ee901b05",
      "metadata": {
        "colab": {
          "base_uri": "https://localhost:8080/"
        },
        "id": "ee901b05",
        "outputId": "5494ae44-7d8f-40cf-bf36-7d2317882225"
      },
      "outputs": [
        {
          "output_type": "stream",
          "name": "stdout",
          "text": [
            "FASTA head: /content/data/malaria.fna\n",
            "BLASTX head: /content/data/malaria.blastx.tab\n",
            ">1_g\tlength=1143\tscaffold=scaffold00001\tstrand=-\\nATGGATATAAATAAGAAATATTTTGCTCAAGATAAATTGGAACATCACTATCACCATTTGTTTCATAATAAATTACCTGCAGATGTGGCTGAGGAATTAGCCGCTACGGCTAAGAAATTAGTAGTACCTGGAAAGGGTATCTTGGCTGCTGATGAAGGAGCTCAGACGATAAAGAAACGATTTGACACTATTAAAATTGAGAACAATGTTGAGAATCGAGCAAACTACAGAGATTTGTTATTTGGTGCTAAAGGTTTGGGAAAATTCATTTCTGGAGTTATTTTATTTGAGGAGACCTTGTTTCAAAAAAATGAAGCAGGTGTGCAACTAGTAAAATTATTACATGAGGAAGGTATAATTCCAGGAATTAAAGTTGATAAGGGATTGGTGGATCTTCCTCGATCTGACCATGAAAAGGCAACGCAGGGTTTAGATGGCTTAGCTGAACGATGCCAGGAATATTACAAAGCTGGTGCTCGATTTGCTAAATGGAGAGCAGTTGTAAATGTTGATATAGAACATGGAAAACCCTCCGAGTTGTCTATTCGAGAAACTGCTTGGACTTTGGCTAGATATGCTTCTATTTGTCAGCATCACAGAATTGTACCCATTGTTGAACCAGAAGTTTTAGCAGATGGAAATCACGGTATTGAAGTCTGTGCTCACGTGACTGAAAGAGTATTACATCATGTTTTTGAGGCATTACATCACCATGGTGTTTTATTAGAAGGTGCTTTATTAAAACCAAATATGGTGACCCCTGGTTATGAGTGTCCAAACAAGGCATCACCACATGATGTAGCTTTTTTCACTGTTAGAACTTTGAAAAGATCTGTGCCACCAGCATTACCCGGTGTTGTCTTTTTGTCAGGAGGTCAATCAGAAGAAGAAGCCACTCTTAATTTGAATGCTATTAATGCTTTGGGACCACACCCATGGGCATTGACATTTTCTTTCGCAAGAGCTTTACAAAACTCTGTATTGCTTACTTGGCAAGGAAAGAAAGAGAATGTTGCTAAAGCAAGAGAAGTTTTGTTAAAAAGAGCTGAAGCAAACTCACAAGCCACTCATGGAAAATACGAAGGAGGGGCTGCAGGTGGTCATGCTACAGCTTCATTATACGAAAAGAAATATGTGTATTAA\\n>2_g\tlength=531\tscaffold=scaffold00001\tstrand=+\\nATGTTAAAATTTGTAAATATGATTCAGTTATTATCAAGAGGTCACAAACTTGTGGAAAAGAAATTTTGCTTTTCGTCTTTGCAAATAATAAAAGAAGATACTAATACGAATTATTTAATGAAAAGGAGTTTACTTTTTAAAGAGGAAGCAGATATAAGCAGAGCAGAAAGAAAAGAAGGACATGTATGCTTAATGGAACACAATTTTTTTGTCCCATTCACTAATTCTTTTTTATATGATGACAACAGTAAGAAACATATCAAATGGAATATTAGGGGAAACAATGAACATAAAATAAATAGATGCTATTCTGAATCATCTTTTGTTACAAATCAATATGACGATTTTTCCAAATGGAGTGTATTGAAAAGAACACCCGTTTTGTCATTTAGCTGGTTAAAGACTATAAGAAAGAAACAATACTATAACATTATAGGAAAAATAGGAATTAAAAAGAGAAATGCAGGAATGTATTGGAAGTTTTATGTTGCCAAGAGAAAAAAAaTAAGAAAGAAAAGGAGAACCATTTAG\n",
            "#queryName\tqueryLength\tfirstQueryPos\tlastQueryPos\thitName\thitLength\tfirstHitPos\tlastHitPos\tframe\thitDescription\tnumberOfHits\tcoverage\tidentity\tevalue\tscore\thspLength\trelIdentity\\n2701_g\t1881\t1\t1806\tQ7RHP3\t516\t1\t516\t+1\tGAF domain protein\t10\t1.18\t256\t2e-110\t405\t608\t0.43\n"
          ]
        }
      ],
      "source": [
        "\n",
        "# Adjust these paths as needed for your environment (e.g., Colab, local)\n",
        "fna = Path(\"/content/data/malaria.fna\")\n",
        "blast = Path(\"/content/data/malaria.blastx.tab\")\n",
        "out_path = Path(\"/content/data/malaria.annotated.fna\")\n",
        "\n",
        "print(\"FASTA head:\", fna if fna.exists() else \"(missing)\")\n",
        "print(\"BLASTX head:\", blast if blast.exists() else \"(missing)\")\n",
        "if fna.exists():\n",
        "    print(\"\\\\n\".join(fna.read_text().splitlines()[:4]))\n",
        "if blast.exists():\n",
        "    print(\"\\\\n\".join(blast.read_text().splitlines()[:2]))\n",
        "\n"
      ]
    },
    {
      "cell_type": "markdown",
      "id": "4a24e3f9",
      "metadata": {
        "id": "4a24e3f9"
      },
      "source": [
        "\n",
        "## 3. Build dictionary: gene ID → protein description\n",
        "\n"
      ]
    },
    {
      "cell_type": "code",
      "execution_count": 46,
      "id": "33dcb9f8",
      "metadata": {
        "colab": {
          "base_uri": "https://localhost:8080/"
        },
        "id": "33dcb9f8",
        "outputId": "0a313ec9-e66e-42b4-9eb7-897b6ad6862c"
      },
      "outputs": [
        {
          "output_type": "stream",
          "name": "stdout",
          "text": [
            "Mapped 4357 gene IDs to protein descriptions\n",
            "Gene ID: 2701_g, Description: GAF domain protein\n",
            "Gene ID: 2702_g, Description: Putative uncharacterized protein PY03942 \n",
            "Gene ID: 2703_g, Description: Putative uncharacterized protein\n",
            "Gene ID: 2704_g, Description: Bet3 transport protein, putative\n",
            "Gene ID: 2706_g, Description: Exonuclease i, putative\n"
          ]
        }
      ],
      "source": [
        "# Create dictionary mapping gene IDs to protein descriptions\n",
        "protein_dict = {}\n",
        "with blast.open('r') as file:\n",
        "    for line in file:\n",
        "        if line.startswith('#'):\n",
        "            continue\n",
        "        line = line.rstrip('\\n')\n",
        "        fields = line.split('\\t')\n",
        "        if len(fields) < 10:\n",
        "            # Skip malformed lines\n",
        "            continue\n",
        "        gene_id = fields[0]\n",
        "        protein_description = fields[9]\n",
        "        if protein_description != 'null':\n",
        "            protein_dict[gene_id] = protein_description\n",
        "\n",
        "print(f\"Mapped {len(protein_dict)} gene IDs to protein descriptions\")\n",
        "for gene_id, description in list(protein_dict.items())[:5]:\n",
        "    print(f\"Gene ID: {gene_id}, Description: {description}\")"
      ]
    },
    {
      "cell_type": "markdown",
      "id": "1cf5afa1",
      "metadata": {
        "id": "1cf5afa1"
      },
      "source": [
        "\n",
        "## 4. Annotate FASTA headers and write output\n",
        "\n"
      ]
    },
    {
      "cell_type": "code",
      "execution_count": 47,
      "id": "5f0e04ad",
      "metadata": {
        "colab": {
          "base_uri": "https://localhost:8080/"
        },
        "id": "5f0e04ad",
        "outputId": "03b91d3a-8f44-4757-d07f-dffdbec36bec"
      },
      "outputs": [
        {
          "output_type": "execute_result",
          "data": {
            "text/plain": [
              "(4357, PosixPath('/content/data/malaria.annotated.fna'))"
            ]
          },
          "metadata": {},
          "execution_count": 47
        }
      ],
      "source": [
        "# Robust multi-line FASTA handling\n",
        "def _wrap_seq(seq: str, width: int = 60) -> str:\n",
        "    return \"\\n\".join(seq[i:i+width] for i in range(0, len(seq), width))\n",
        "\n",
        "def _fasta_iter_multi(fp):\n",
        "    header = None\n",
        "    seq_chunks = []\n",
        "    for raw in fp:\n",
        "        line = raw.rstrip('\\n')\n",
        "        if not line:\n",
        "            continue\n",
        "        if line.startswith('>'):\n",
        "            if header is not None:\n",
        "                yield header, ''.join(seq_chunks)\n",
        "            header = line[1:]  # without '>'\n",
        "            seq_chunks = []\n",
        "        else:\n",
        "            seq_chunks.append(''.join(line.split()).upper())\n",
        "    if header is not None:\n",
        "        yield header, ''.join(seq_chunks)\n",
        "\n",
        "# %% Read FASTA, add protein description, and write output\n",
        "written = 0\n",
        "with fna.open('r') as file, out_path.open('w') as output:\n",
        "    for header, seq in _fasta_iter_multi(file):\n",
        "        fields = header.split('\\t')\n",
        "        gene_id = fields[0]\n",
        "        if gene_id in protein_dict:\n",
        "            output.write('>' + header + '\\t' + 'protein=' + protein_dict[gene_id] + '\\n')\n",
        "            output.write(_wrap_seq(seq) + '\\n')\n",
        "            written += 1\n",
        "\n",
        "written, out_path"
      ]
    },
    {
      "cell_type": "markdown",
      "id": "30e6dc1b",
      "metadata": {
        "id": "30e6dc1b"
      },
      "source": [
        "\n",
        "## 5. Visualization\n",
        "\n",
        "We show the first two annotated records from the output FASTA file to verify content.\n"
      ]
    },
    {
      "cell_type": "code",
      "execution_count": 13,
      "id": "a6363f6e",
      "metadata": {
        "colab": {
          "base_uri": "https://localhost:8080/"
        },
        "id": "a6363f6e",
        "outputId": "8dfb3cf0-ea41-428b-899b-55a647ee9eea"
      },
      "outputs": [
        {
          "output_type": "stream",
          "name": "stdout",
          "text": [
            ">1_g\tlength=1143\tscaffold=scaffold00001\tstrand=-\tprotein=Fructose-bisphosphate aldolase\n",
            "ATGGATATAAATAAGAAATATTTTGCTCAAGATAAATTGGAACATCACTATCACCATTTG\n",
            "TTTCATAATAAATTACCTGCAGATGTGGCTGAGGAATTAGCCGCTACGGCTAAGAAATTA\n",
            "GTAGTACCTGGAAAGGGTATCTTGGCTGCTGATGAAGGAGCTCAGACGATAAAGAAACGA\n",
            "TTTGACACTATTAAAATTGAGAACAATGTTGAGAATCGAGCAAACTACAGAGATTTGTTA\n",
            "TTTGGTGCTAAAGGTTTGGGAAAATTCATTTCTGGAGTTATTTTATTTGAGGAGACCTTG\n",
            "TTTCAAAAAAATGAAGCAGGTGTGCAACTAGTAAAATTATTACATGAGGAAGGTATAATT\n",
            "CCAGGAATTAAAGTTGATAAGGGATTGGTGGATCTTCCTCGATCTGACCATGAAAAGGCA\n",
            "ACGCAGGGTTTAGATGGCTTAGCTGAACGATGCCAGGAATATTACAAAGCTGGTGCTCGA\n",
            "TTTGCTAAATGGAGAGCAGTTGTAAATGTTGATATAGAACATGGAAAACCCTCCGAGTTG\n",
            "TCTATTCGAGAAACTGCTTGGACTTTGGCTAGATATGCTTCTATTTGTCAGCATCACAGA\n",
            "ATTGTACCCATTGTTGAACCAGAAGTTTTAGCAGATGGAAATCACGGTATTGAAGTCTGT\n",
            "GCTCACGTGACTGAAAGAGTATTACATCATGTTTTTGAGGCATTACATCACCATGGTGTT\n",
            "TTATTAGAAGGTGCTTTATTAAAACCAAATATGGTGACCCCTGGTTATGAGTGTCCAAAC\n",
            "AAGGCATCACCACATGATGTAGCTTTTTTCACTGTTAGAACTTTGAAAAGATCTGTGCCA\n",
            "CCAGCATTACCCGGTGTTGTCTTTTTGTCAGGAGGTCAATCAGAAGAAGAAGCCACTCTT\n",
            "AATTTGAATGCTATTAATGCTTTGGGACCACACCCATGGGCATTGACATTTTCTTTCGCA\n",
            "AGAGCTTTACAAAACTCTGTATTGCTTACTTGGCAAGGAAAGAAAGAGAATGTTGCTAAA\n",
            "GCAAGAGAAGTTTTGTTAAAAAGAGCTGAAGCAAACTCACAAGCCACTCATGGAAAATAC\n",
            "GAAGGAGGGGCTGCAGGTGGTCATGCTACAGCTTCATTATACGAAAAGAAATATGTGTAT\n",
            "TAA\n",
            "\n",
            ">2_g\tlength=531\tscaffold=scaffold00001\tstrand=+\tprotein=Putative uncharacterized protein\n",
            "ATGTTAAAATTTGTAAATATGATTCAGTTATTATCAAGAGGTCACAAACTTGTGGAAAAG\n",
            "AAATTTTGCTTTTCGTCTTTGCAAATAATAAAAGAAGATACTAATACGAATTATTTAATG\n",
            "AAAAGGAGTTTACTTTTTAAAGAGGAAGCAGATATAAGCAGAGCAGAAAGAAAAGAAGGA\n",
            "CATGTATGCTTAATGGAACACAATTTTTTTGTCCCATTCACTAATTCTTTTTTATATGAT\n",
            "GACAACAGTAAGAAACATATCAAATGGAATATTAGGGGAAACAATGAACATAAAATAAAT\n",
            "AGATGCTATTCTGAATCATCTTTTGTTACAAATCAATATGACGATTTTTCCAAATGGAGT\n",
            "GTATTGAAAAGAACACCCGTTTTGTCATTTAGCTGGTTAAAGACTATAAGAAAGAAACAA\n",
            "TACTATAACATTATAGGAAAAATAGGAATTAAAAAGAGAAATGCAGGAATGTATTGGAAG\n",
            "TTTTATGTTGCCAAGAGAAAAAAAATAAGAAAGAAAAGGAGAACCATTTAG\n",
            "\n"
          ]
        }
      ],
      "source": [
        "# 展示输出 FASTA 的前两个完整记录（header + 全序列）\n",
        "def iter_fasta_records(path):\n",
        "    header = None\n",
        "    seq = []\n",
        "    with open(path, 'r') as f:\n",
        "        for line in f:\n",
        "            line = line.rstrip('\\n')\n",
        "            if line.startswith('>'):\n",
        "                if header is not None:\n",
        "                    yield header, ''.join(seq)\n",
        "                header = line[1:]\n",
        "                seq = []\n",
        "            else:\n",
        "                seq.append(line.strip())\n",
        "        if header is not None:\n",
        "            yield header, ''.join(seq)\n",
        "\n",
        "if not out_path.exists():\n",
        "    print(\"Output file not found:\", out_path)\n",
        "else:\n",
        "    shown = 0\n",
        "    for hdr, seq in iter_fasta_records(out_path):\n",
        "        print(\">\" + hdr)\n",
        "        for i in range(0, len(seq), 60):\n",
        "            print(seq[i:i+60])\n",
        "        print()\n",
        "        shown += 1\n",
        "        if shown == 2:\n",
        "            break\n",
        "    if shown < 2:\n",
        "        print(f\"(Only {shown} records were written to the output file)\")\n"
      ]
    },
    {
      "cell_type": "markdown",
      "id": "abf71243",
      "metadata": {
        "id": "abf71243"
      },
      "source": [
        "## 6. Notes on robustness\n",
        "\n",
        "The original reference assumed **single-line sequences**. This notebook implements a robust **multi-line FASTA** parser that buffers sequence lines until the next header and normalizes whitespace. The core idea:\n",
        "\n",
        "```text\n",
        "for each line:\n",
        "  if header -> flush previous sequence if had hit; start new record\n",
        "  else -> append to current sequence buffer\n",
        "```\n",
        "\n",
        "Output sequences are wrapped to 60 columns for readability."
      ]
    },
    {
      "cell_type": "markdown",
      "source": [
        "## 7. Licence\n",
        "\n",
        "```\n",
        "MIT License\n",
        "\n",
        "Copyright (c) 2025 Xing Fan\n",
        "\n",
        "Permission is hereby granted, free of charge, to any person obtaining a copy\n",
        "of this software and associated documentation files (the \"Software\"), to deal\n",
        "in the Software without restriction, including without limitation the rights\n",
        "to use, copy, modify, merge, publish, distribute, sublicense, and/or sell\n",
        "copies of the Software, and to permit persons to whom the Software is\n",
        "furnished to do so, subject to the following conditions:\n",
        "\n",
        "The above copyright notice and this permission notice shall be included in all\n",
        "copies or substantial portions of the Software.\n",
        "\n",
        "THE SOFTWARE IS PROVIDED \"AS IS\", WITHOUT WARRANTY OF ANY KIND, EXPRESS OR\n",
        "IMPLIED, INCLUDING BUT NOT LIMITED TO THE WARRANTIES OF MERCHANTABILITY,\n",
        "FITNESS FOR A PARTICULAR PURPOSE AND NONINFRINGEMENT. IN NO EVENT SHALL THE\n",
        "AUTHORS OR COPYRIGHT HOLDERS BE LIABLE FOR ANY CLAIM, DAMAGES OR OTHER\n",
        "LIABILITY, WHETHER IN AN ACTION OF CONTRACT, TORT OR OTHERWISE, ARISING FROM,\n",
        "OUT OF OR IN CONNECTION WITH THE SOFTWARE OR THE USE OR OTHER DEALINGS IN THE\n",
        "SOFTWARE.\n",
        "```\n"
      ],
      "metadata": {
        "id": "0ri_fyX66Wpj"
      },
      "id": "0ri_fyX66Wpj"
    },
    {
      "cell_type": "markdown",
      "id": "38d81f5c",
      "metadata": {
        "id": "38d81f5c"
      },
      "source": [
        "\n",
        "## 8. FAIR discussion\n",
        "\n",
        "- Findable:\n",
        "All data, scripts, and documentation are uploaded to an open GitHub repository: https://github.com/xfan-01/bern02_workflow\n",
        ". This makes the workflow easy to find, well organized, and version-controlled.\n",
        "\n",
        "- Accessible:\n",
        "The repository is open to everyone without restrictions. A license is included to explain how the data and code can be used, changed, and shared.\n",
        "\n",
        "- Interoperable:\n",
        "The workflow uses common data formats such as FASTA and TSV, which can be read by many bioinformatics tools. The scripts are written in Python and run in Jupyter Notebook, and the environment setup is provided, making it easy to use with other pipelines.\n",
        "\n",
        "- Reusable:\n",
        "The repository includes data, code, and clear notes about the workflow steps, parameter choices, and environment settings. This allows others to reproduce the results and adapt the workflow for their own research."
      ]
    }
  ],
  "metadata": {
    "language_info": {
      "name": "python"
    },
    "colab": {
      "provenance": []
    },
    "kernelspec": {
      "name": "python3",
      "display_name": "Python 3"
    }
  },
  "nbformat": 4,
  "nbformat_minor": 5
}